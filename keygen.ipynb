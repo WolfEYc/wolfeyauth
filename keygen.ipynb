{
 "cells": [
  {
   "cell_type": "code",
   "execution_count": 1,
   "metadata": {},
   "outputs": [],
   "source": [
    "from cryptography.hazmat.primitives import serialization\n",
    "from cryptography.hazmat.primitives.asymmetric import rsa\n",
    "from dotenv import load_dotenv\n",
    "import os\n",
    "\n",
    "load_dotenv()\n",
    "\n",
    "pkey_pass = os.environ[\"PRIVATE_KEY_PASSWORD\"]\n",
    "\n",
    "private_key = rsa.generate_private_key(\n",
    "    public_exponent=65537,\n",
    "    key_size=2048\n",
    ")\n",
    "\n",
    "encrypted_pem_private_key = private_key.private_bytes(\n",
    "    encoding=serialization.Encoding.PEM,\n",
    "    format=serialization.PrivateFormat.PKCS8,\n",
    "    encryption_algorithm=serialization.BestAvailableEncryption(bytes(pkey_pass, encoding=\"utf-8\"))\n",
    ")\n",
    "\n",
    "pem_public_key = private_key.public_key().public_bytes(\n",
    "  encoding=serialization.Encoding.PEM,\n",
    "  format=serialization.PublicFormat.SubjectPublicKeyInfo\n",
    ")\n",
    "\n",
    "with open(\"cert/private_key.pem\", \"w\") as writer:\n",
    "    writer.write(encrypted_pem_private_key.decode())\n",
    "\n",
    "with open(\"cert/public_key.pub\", \"w\") as writer:\n",
    "    writer.write(pem_public_key.decode())"
   ]
  }
 ],
 "metadata": {
  "kernelspec": {
   "display_name": "Python 3",
   "language": "python",
   "name": "python3"
  },
  "language_info": {
   "codemirror_mode": {
    "name": "ipython",
    "version": 3
   },
   "file_extension": ".py",
   "mimetype": "text/x-python",
   "name": "python",
   "nbconvert_exporter": "python",
   "pygments_lexer": "ipython3",
   "version": "3.10.12"
  },
  "orig_nbformat": 4
 },
 "nbformat": 4,
 "nbformat_minor": 2
}
